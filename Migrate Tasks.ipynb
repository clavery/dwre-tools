{
 "cells": [
  {
   "cell_type": "code",
   "execution_count": 1,
   "metadata": {
    "collapsed": false
   },
   "outputs": [],
   "source": [
    "%load_ext autoreload\n",
    "%autoreload 2"
   ]
  },
  {
   "cell_type": "code",
   "execution_count": 2,
   "metadata": {
    "collapsed": true
   },
   "outputs": [],
   "source": [
    "import requests\n",
    "import zipfile\n",
    "import io\n",
    "from datetime import datetime\n",
    "import pyquery\n",
    "import thread"
   ]
  },
  {
   "cell_type": "markdown",
   "metadata": {},
   "source": [
    "## Environment"
   ]
  },
  {
   "cell_type": "code",
   "execution_count": 3,
   "metadata": {
    "collapsed": false
   },
   "outputs": [],
   "source": [
    "from dwre_tools.env import get_default_project, get_project, load_config, get_environment"
   ]
  },
  {
   "cell_type": "code",
   "execution_count": 4,
   "metadata": {
    "collapsed": false
   },
   "outputs": [],
   "source": [
    "PROJECT = get_project(\"swk\")\n",
    "ENV = get_environment(\"dev01\", PROJECT)"
   ]
  },
  {
   "cell_type": "markdown",
   "metadata": {},
   "source": [
    "## Login Session"
   ]
  },
  {
   "cell_type": "code",
   "execution_count": 5,
   "metadata": {
    "collapsed": false
   },
   "outputs": [],
   "source": [
    "webdavsession = requests.session()\n",
    "webdavsession.auth=(ENV[\"username\"], ENV[\"password\"],)\n",
    "bmsession = requests.session()"
   ]
  },
  {
   "cell_type": "code",
   "execution_count": 6,
   "metadata": {
    "collapsed": false
   },
   "outputs": [
    {
     "data": {
      "text/plain": [
       "<Response [200]>"
      ]
     },
     "execution_count": 6,
     "metadata": {},
     "output_type": "execute_result"
    }
   ],
   "source": [
    "bmsession.post(\"https://{}/on/demandware.store/Sites-Site/default/ViewApplication-ProcessLogin\".format(ENV[\"server\"]),\n",
    "               data=dict(\n",
    "                    LoginForm_Login=ENV[\"username\"],\n",
    "                    LoginForm_Password=ENV[\"password\"],\n",
    "                    LocaleID=\"\",\n",
    "                    LoginForm_RegistrationDomain=\"Sites\",\n",
    "                    login=\"\"\n",
    "                ))"
   ]
  },
  {
   "cell_type": "markdown",
   "metadata": {},
   "source": [
    "## Utilities"
   ]
  },
  {
   "cell_type": "code",
   "execution_count": 7,
   "metadata": {
    "collapsed": true
   },
   "outputs": [],
   "source": [
    "def wait_for_import():\n",
    "    response = bmsession.get(\"https://{}/on/demandware.store/Sites-Site/default/ViewSiteImpex-Status\".format(ENV[\"server\"]))\n",
    "    response_q = pyquery.PyQuery( response.content)\n",
    "    log_link = response_q.find(\"a:contains('Site Import')\").eq(0).attr(\"href\")\n",
    "    # TODO check if this matches the import we are targetting, not just the first\n",
    "    finished = False\n",
    "    while not finished: \n",
    "        log_response = bmsession.get(log_link)\n",
    "        if \"finished successfully\" in log_response.content:\n",
    "            finished = True\n",
    "        else:\n",
    "            thread.sleep(2)\n",
    "            \n",
    "def wait_for_export(session):\n",
    "    response = session.get(\"https://{}/on/demandware.store/Sites-Site/default/ViewSiteImpex-Status\".format(ENV[\"server\"]))\n",
    "    response_q = pyquery.PyQuery( response.content)\n",
    "    log_link = response_q.find(\"a:contains('Site Export')\").eq(0).attr(\"href\")\n",
    "    # TODO check if this matches the import we are targetting, not just the first\n",
    "    finished = False\n",
    "    while not finished: \n",
    "        log_response = bmsession.get(log_link)\n",
    "        if \"finished successfully\" in log_response.content:\n",
    "            finished = True\n",
    "        else:\n",
    "            thread.sleep(2)\n",
    "            \n",
    "def download_zip(url):\n",
    "    r = requests.get(url)\n",
    "    zipfile = zipfile.ZipFile(BytesIO(r.content))\n",
    "    return zipfile"
   ]
  },
  {
   "cell_type": "markdown",
   "metadata": {},
   "source": [
    "## Bootstrap"
   ]
  },
  {
   "cell_type": "code",
   "execution_count": 8,
   "metadata": {
    "collapsed": true
   },
   "outputs": [],
   "source": [
    "TOOL_VERSION = \"1\"\n",
    "BOOTSTRAP_META = \"\"\"<?xml version=\"1.0\" encoding=\"UTF-8\"?>\n",
    "<metadata xmlns=\"http://www.demandware.com/xml/impex/metadata/2006-10-31\">\n",
    "    <type-extension type-id=\"OrganizationPreferences\">\n",
    "        <custom-attribute-definitions>\n",
    "            <attribute-definition attribute-id=\"dwreMigrateCurrentVersion\">\n",
    "                <display-name xml:lang=\"x-default\">DWRE Migrate Current Version</display-name>\n",
    "                <type>string</type>\n",
    "                <mandatory-flag>false</mandatory-flag>\n",
    "                <externally-managed-flag>false</externally-managed-flag>\n",
    "                <min-length>0</min-length>\n",
    "            </attribute-definition>\n",
    "            <attribute-definition attribute-id=\"dwreMigrateToolVersion\">\n",
    "                <display-name xml:lang=\"x-default\">DWRE Migrate Tool Version</display-name>\n",
    "                <type>string</type>\n",
    "                <mandatory-flag>false</mandatory-flag>\n",
    "                <externally-managed-flag>false</externally-managed-flag>\n",
    "                <min-length>0</min-length>\n",
    "                <default-value>{0}</default-value>\n",
    "            </attribute-definition>\n",
    "        </custom-attribute-definitions>\n",
    "        <group-definitions>\n",
    "            <attribute-group group-id=\"dwreMigrate\">\n",
    "                <display-name xml:lang=\"x-default\">DWREMigrate</display-name>\n",
    "                <attribute attribute-id=\"dwreMigrateCurrentVersion\"/>\n",
    "                <attribute attribute-id=\"dwreMigrateToolVersion\"/>\n",
    "            </attribute-group>\n",
    "        </group-definitions>\n",
    "    </type-extension>\n",
    "</metadata>\n",
    "\"\"\".format(TOOL_VERSION)"
   ]
  },
  {
   "cell_type": "code",
   "execution_count": 9,
   "metadata": {
    "collapsed": true
   },
   "outputs": [],
   "source": [
    "PREFERENCES = \"\"\"<?xml version=\"1.0\" encoding=\"UTF-8\"?>\n",
    "<preferences xmlns=\"http://www.demandware.com/xml/impex/preferences/2007-03-31\">\n",
    "    <custom-preferences>\n",
    "        <all-instances>\n",
    "            <preference preference-id=\"dwreMigrateToolVersion\">1</preference>\n",
    "        </all-instances>\n",
    "    </custom-preferences>\n",
    "</preferences>\n",
    "\"\"\"\n",
    "\n",
    "VERSION = \"\"\"###########################################\n",
    "# Generated file, do not edit.\n",
    "# Copyright (c) 2015 by Demandware, Inc.\n",
    "###########################################\n",
    "15.5.2\n",
    "\"\"\""
   ]
  },
  {
   "cell_type": "code",
   "execution_count": 10,
   "metadata": {
    "collapsed": true
   },
   "outputs": [],
   "source": [
    "dest_file = \"DWREMigrateBootstrap_{}\".format(datetime.now().isoformat())"
   ]
  },
  {
   "cell_type": "code",
   "execution_count": 11,
   "metadata": {
    "collapsed": false
   },
   "outputs": [],
   "source": [
    "bootstrap_package_file = io.BytesIO()\n",
    "bootstrap_package_zip = zipfile.ZipFile(bootstrap_package_file, \"w\")"
   ]
  },
  {
   "cell_type": "code",
   "execution_count": 12,
   "metadata": {
    "collapsed": false
   },
   "outputs": [],
   "source": [
    "bootstrap_package_zip.writestr(\"{}/version.txt\".format(dest_file), VERSION)\n",
    "bootstrap_package_zip.writestr(\"{}/preferences.xml\".format(dest_file), PREFERENCES)\n",
    "bootstrap_package_zip.writestr(\"{}/meta/system-objecttype-extensions.xml\".format(dest_file), BOOTSTRAP_META)\n",
    "bootstrap_package_zip.close()"
   ]
  },
  {
   "cell_type": "code",
   "execution_count": 13,
   "metadata": {
    "collapsed": false
   },
   "outputs": [],
   "source": [
    "with open(\"test.zip\", \"wb\") as f:\n",
    "    bootstrap_package_file.seek(0)\n",
    "    f.write(bootstrap_package_file.read())"
   ]
  },
  {
   "cell_type": "markdown",
   "metadata": {},
   "source": [
    "### Upload Bootstrap"
   ]
  },
  {
   "cell_type": "code",
   "execution_count": 14,
   "metadata": {
    "collapsed": false
   },
   "outputs": [
    {
     "data": {
      "text/plain": [
       "<Response [201]>"
      ]
     },
     "execution_count": 14,
     "metadata": {},
     "output_type": "execute_result"
    }
   ],
   "source": [
    "dest_url = \"https://{0}/on/demandware.servlet/webdav/Sites/Impex/src/instance/{1}.zip\".format(\n",
    "    ENV[\"server\"], dest_file)\n",
    "webdavsession.put(dest_url, data=bootstrap_package_file)"
   ]
  },
  {
   "cell_type": "markdown",
   "metadata": {},
   "source": [
    "### Activate Bootstrap"
   ]
  },
  {
   "cell_type": "code",
   "execution_count": 15,
   "metadata": {
    "collapsed": false
   },
   "outputs": [],
   "source": [
    "response = bmsession.post(\"https://{}/on/demandware.store/Sites-Site/default/ViewSiteImpex-Dispatch\".format(ENV[\"server\"]),\n",
    "                          data={\"import\" :\"\", \"ImportFileName\" : dest_file + \".zip\", \"realmUse\": \"False\"})"
   ]
  },
  {
   "cell_type": "code",
   "execution_count": 16,
   "metadata": {
    "collapsed": false
   },
   "outputs": [],
   "source": [
    "wait_for_import()"
   ]
  },
  {
   "cell_type": "markdown",
   "metadata": {},
   "source": [
    "### Delete Impex Files"
   ]
  },
  {
   "cell_type": "code",
   "execution_count": 17,
   "metadata": {
    "collapsed": false
   },
   "outputs": [
    {
     "data": {
      "text/plain": [
       "<Response [204]>"
      ]
     },
     "execution_count": 17,
     "metadata": {},
     "output_type": "execute_result"
    }
   ],
   "source": [
    "dest_url = \"https://{0}/on/demandware.servlet/webdav/Sites/Impex/src/instance/{1}.zip\".format(\n",
    "    ENV[\"server\"], dest_file)\n",
    "webdavsession.delete(dest_url)"
   ]
  },
  {
   "cell_type": "markdown",
   "metadata": {},
   "source": [
    "## Load Migrations Context"
   ]
  },
  {
   "cell_type": "markdown",
   "metadata": {},
   "source": [
    "### Export Current Preferences "
   ]
  },
  {
   "cell_type": "code",
   "execution_count": null,
   "metadata": {
    "collapsed": true
   },
   "outputs": [],
   "source": []
  },
  {
   "cell_type": "code",
   "execution_count": null,
   "metadata": {
    "collapsed": true
   },
   "outputs": [],
   "source": []
  },
  {
   "cell_type": "code",
   "execution_count": 38,
   "metadata": {
    "collapsed": false
   },
   "outputs": [
    {
     "data": {
      "text/plain": [
       "<Response [200]>"
      ]
     },
     "execution_count": 38,
     "metadata": {},
     "output_type": "execute_result"
    }
   ],
   "source": [
    "# https://dev01-web-stonewall.demandware.net/on/demandware.store/Sites-Site/default/ViewSiteImpex-Dispatch\n",
    "\n",
    "export_filename = \"DWREMigrateExport_{}\".format(datetime.now().isoformat())\n",
    "export_url = \"https://{}/on/demandware.store/Sites-Site/default/ViewSiteImpex-Dispatch\".format(ENV[\"server\"])\n",
    "bmsession.post(export_url, data={\n",
    "        \"exportFile\": export_filename,\n",
    "        \"export\": \"\",\n",
    "        \"SelectedExportUnit\":\"GlobalPreferencesExport\"\n",
    "    })\n"
   ]
  },
  {
   "cell_type": "code",
   "execution_count": 33,
   "metadata": {
    "collapsed": false
   },
   "outputs": [
    {
     "ename": "MissingSchema",
     "evalue": "Invalid URL 'None': No schema supplied. Perhaps you meant http://None?",
     "output_type": "error",
     "traceback": [
      "\u001b[0;31m---------------------------------------------------------------------------\u001b[0m",
      "\u001b[0;31mMissingSchema\u001b[0m                             Traceback (most recent call last)",
      "\u001b[0;32m<ipython-input-33-0eb6120e93ec>\u001b[0m in \u001b[0;36m<module>\u001b[0;34m()\u001b[0m\n\u001b[0;32m----> 1\u001b[0;31m \u001b[0mwait_for_export\u001b[0m\u001b[0;34m(\u001b[0m\u001b[0mbmsession\u001b[0m\u001b[0;34m)\u001b[0m\u001b[0;34m\u001b[0m\u001b[0m\n\u001b[0m",
      "\u001b[0;32m<ipython-input-32-d2f984131786>\u001b[0m in \u001b[0;36mwait_for_export\u001b[0;34m(session)\u001b[0m\n\u001b[1;32m     19\u001b[0m     \u001b[0mfinished\u001b[0m \u001b[0;34m=\u001b[0m \u001b[0mFalse\u001b[0m\u001b[0;34m\u001b[0m\u001b[0m\n\u001b[1;32m     20\u001b[0m     \u001b[0;32mwhile\u001b[0m \u001b[0;32mnot\u001b[0m \u001b[0mfinished\u001b[0m\u001b[0;34m:\u001b[0m\u001b[0;34m\u001b[0m\u001b[0m\n\u001b[0;32m---> 21\u001b[0;31m         \u001b[0mlog_response\u001b[0m \u001b[0;34m=\u001b[0m \u001b[0mbmsession\u001b[0m\u001b[0;34m.\u001b[0m\u001b[0mget\u001b[0m\u001b[0;34m(\u001b[0m\u001b[0mlog_link\u001b[0m\u001b[0;34m)\u001b[0m\u001b[0;34m\u001b[0m\u001b[0m\n\u001b[0m\u001b[1;32m     22\u001b[0m         \u001b[0;32mif\u001b[0m \u001b[0;34m\"finished successfully\"\u001b[0m \u001b[0;32min\u001b[0m \u001b[0mlog_response\u001b[0m\u001b[0;34m.\u001b[0m\u001b[0mcontent\u001b[0m\u001b[0;34m:\u001b[0m\u001b[0;34m\u001b[0m\u001b[0m\n\u001b[1;32m     23\u001b[0m             \u001b[0mfinished\u001b[0m \u001b[0;34m=\u001b[0m \u001b[0mTrue\u001b[0m\u001b[0;34m\u001b[0m\u001b[0m\n",
      "\u001b[0;32m/Users/clavery/.venv/default/lib/python2.7/site-packages/requests/sessions.pyc\u001b[0m in \u001b[0;36mget\u001b[0;34m(self, url, **kwargs)\u001b[0m\n\u001b[1;32m    475\u001b[0m \u001b[0;34m\u001b[0m\u001b[0m\n\u001b[1;32m    476\u001b[0m         \u001b[0mkwargs\u001b[0m\u001b[0;34m.\u001b[0m\u001b[0msetdefault\u001b[0m\u001b[0;34m(\u001b[0m\u001b[0;34m'allow_redirects'\u001b[0m\u001b[0;34m,\u001b[0m \u001b[0mTrue\u001b[0m\u001b[0;34m)\u001b[0m\u001b[0;34m\u001b[0m\u001b[0m\n\u001b[0;32m--> 477\u001b[0;31m         \u001b[0;32mreturn\u001b[0m \u001b[0mself\u001b[0m\u001b[0;34m.\u001b[0m\u001b[0mrequest\u001b[0m\u001b[0;34m(\u001b[0m\u001b[0;34m'GET'\u001b[0m\u001b[0;34m,\u001b[0m \u001b[0murl\u001b[0m\u001b[0;34m,\u001b[0m \u001b[0;34m**\u001b[0m\u001b[0mkwargs\u001b[0m\u001b[0;34m)\u001b[0m\u001b[0;34m\u001b[0m\u001b[0m\n\u001b[0m\u001b[1;32m    478\u001b[0m \u001b[0;34m\u001b[0m\u001b[0m\n\u001b[1;32m    479\u001b[0m     \u001b[0;32mdef\u001b[0m \u001b[0moptions\u001b[0m\u001b[0;34m(\u001b[0m\u001b[0mself\u001b[0m\u001b[0;34m,\u001b[0m \u001b[0murl\u001b[0m\u001b[0;34m,\u001b[0m \u001b[0;34m**\u001b[0m\u001b[0mkwargs\u001b[0m\u001b[0;34m)\u001b[0m\u001b[0;34m:\u001b[0m\u001b[0;34m\u001b[0m\u001b[0m\n",
      "\u001b[0;32m/Users/clavery/.venv/default/lib/python2.7/site-packages/requests/sessions.pyc\u001b[0m in \u001b[0;36mrequest\u001b[0;34m(self, method, url, params, data, headers, cookies, files, auth, timeout, allow_redirects, proxies, hooks, stream, verify, cert, json)\u001b[0m\n\u001b[1;32m    449\u001b[0m             \u001b[0mhooks\u001b[0m \u001b[0;34m=\u001b[0m \u001b[0mhooks\u001b[0m\u001b[0;34m,\u001b[0m\u001b[0;34m\u001b[0m\u001b[0m\n\u001b[1;32m    450\u001b[0m         )\n\u001b[0;32m--> 451\u001b[0;31m         \u001b[0mprep\u001b[0m \u001b[0;34m=\u001b[0m \u001b[0mself\u001b[0m\u001b[0;34m.\u001b[0m\u001b[0mprepare_request\u001b[0m\u001b[0;34m(\u001b[0m\u001b[0mreq\u001b[0m\u001b[0;34m)\u001b[0m\u001b[0;34m\u001b[0m\u001b[0m\n\u001b[0m\u001b[1;32m    452\u001b[0m \u001b[0;34m\u001b[0m\u001b[0m\n\u001b[1;32m    453\u001b[0m         \u001b[0mproxies\u001b[0m \u001b[0;34m=\u001b[0m \u001b[0mproxies\u001b[0m \u001b[0;32mor\u001b[0m \u001b[0;34m{\u001b[0m\u001b[0;34m}\u001b[0m\u001b[0;34m\u001b[0m\u001b[0m\n",
      "\u001b[0;32m/Users/clavery/.venv/default/lib/python2.7/site-packages/requests/sessions.pyc\u001b[0m in \u001b[0;36mprepare_request\u001b[0;34m(self, request)\u001b[0m\n\u001b[1;32m    380\u001b[0m             \u001b[0mauth\u001b[0m\u001b[0;34m=\u001b[0m\u001b[0mmerge_setting\u001b[0m\u001b[0;34m(\u001b[0m\u001b[0mauth\u001b[0m\u001b[0;34m,\u001b[0m \u001b[0mself\u001b[0m\u001b[0;34m.\u001b[0m\u001b[0mauth\u001b[0m\u001b[0;34m)\u001b[0m\u001b[0;34m,\u001b[0m\u001b[0;34m\u001b[0m\u001b[0m\n\u001b[1;32m    381\u001b[0m             \u001b[0mcookies\u001b[0m\u001b[0;34m=\u001b[0m\u001b[0mmerged_cookies\u001b[0m\u001b[0;34m,\u001b[0m\u001b[0;34m\u001b[0m\u001b[0m\n\u001b[0;32m--> 382\u001b[0;31m             \u001b[0mhooks\u001b[0m\u001b[0;34m=\u001b[0m\u001b[0mmerge_hooks\u001b[0m\u001b[0;34m(\u001b[0m\u001b[0mrequest\u001b[0m\u001b[0;34m.\u001b[0m\u001b[0mhooks\u001b[0m\u001b[0;34m,\u001b[0m \u001b[0mself\u001b[0m\u001b[0;34m.\u001b[0m\u001b[0mhooks\u001b[0m\u001b[0;34m)\u001b[0m\u001b[0;34m,\u001b[0m\u001b[0;34m\u001b[0m\u001b[0m\n\u001b[0m\u001b[1;32m    383\u001b[0m         )\n\u001b[1;32m    384\u001b[0m         \u001b[0;32mreturn\u001b[0m \u001b[0mp\u001b[0m\u001b[0;34m\u001b[0m\u001b[0m\n",
      "\u001b[0;32m/Users/clavery/.venv/default/lib/python2.7/site-packages/requests/models.pyc\u001b[0m in \u001b[0;36mprepare\u001b[0;34m(self, method, url, headers, files, data, params, auth, cookies, hooks, json)\u001b[0m\n\u001b[1;32m    302\u001b[0m \u001b[0;34m\u001b[0m\u001b[0m\n\u001b[1;32m    303\u001b[0m         \u001b[0mself\u001b[0m\u001b[0;34m.\u001b[0m\u001b[0mprepare_method\u001b[0m\u001b[0;34m(\u001b[0m\u001b[0mmethod\u001b[0m\u001b[0;34m)\u001b[0m\u001b[0;34m\u001b[0m\u001b[0m\n\u001b[0;32m--> 304\u001b[0;31m         \u001b[0mself\u001b[0m\u001b[0;34m.\u001b[0m\u001b[0mprepare_url\u001b[0m\u001b[0;34m(\u001b[0m\u001b[0murl\u001b[0m\u001b[0;34m,\u001b[0m \u001b[0mparams\u001b[0m\u001b[0;34m)\u001b[0m\u001b[0;34m\u001b[0m\u001b[0m\n\u001b[0m\u001b[1;32m    305\u001b[0m         \u001b[0mself\u001b[0m\u001b[0;34m.\u001b[0m\u001b[0mprepare_headers\u001b[0m\u001b[0;34m(\u001b[0m\u001b[0mheaders\u001b[0m\u001b[0;34m)\u001b[0m\u001b[0;34m\u001b[0m\u001b[0m\n\u001b[1;32m    306\u001b[0m         \u001b[0mself\u001b[0m\u001b[0;34m.\u001b[0m\u001b[0mprepare_cookies\u001b[0m\u001b[0;34m(\u001b[0m\u001b[0mcookies\u001b[0m\u001b[0;34m)\u001b[0m\u001b[0;34m\u001b[0m\u001b[0m\n",
      "\u001b[0;32m/Users/clavery/.venv/default/lib/python2.7/site-packages/requests/models.pyc\u001b[0m in \u001b[0;36mprepare_url\u001b[0;34m(self, url, params)\u001b[0m\n\u001b[1;32m    360\u001b[0m             raise MissingSchema(\"Invalid URL {0!r}: No schema supplied. \"\n\u001b[1;32m    361\u001b[0m                                 \"Perhaps you meant http://{0}?\".format(\n\u001b[0;32m--> 362\u001b[0;31m                                     to_native_string(url, 'utf8')))\n\u001b[0m\u001b[1;32m    363\u001b[0m \u001b[0;34m\u001b[0m\u001b[0m\n\u001b[1;32m    364\u001b[0m         \u001b[0;32mif\u001b[0m \u001b[0;32mnot\u001b[0m \u001b[0mhost\u001b[0m\u001b[0;34m:\u001b[0m\u001b[0;34m\u001b[0m\u001b[0m\n",
      "\u001b[0;31mMissingSchema\u001b[0m: Invalid URL 'None': No schema supplied. Perhaps you meant http://None?"
     ]
    }
   ],
   "source": [
    "wait_for_export(bmsession)"
   ]
  },
  {
   "cell_type": "code",
   "execution_count": null,
   "metadata": {
    "collapsed": true
   },
   "outputs": [],
   "source": [
    "zipfile = download_zip(\"https://{}/on/demandware.servlet/webdav/Sites/Impex/src/instance/GlobalMeta.zip\".format(ENV[\"server\"]))"
   ]
  },
  {
   "cell_type": "markdown",
   "metadata": {},
   "source": [
    "## Determine Required Migrations"
   ]
  },
  {
   "cell_type": "markdown",
   "metadata": {},
   "source": [
    "## Perform Migrations"
   ]
  },
  {
   "cell_type": "code",
   "execution_count": null,
   "metadata": {
    "collapsed": true
   },
   "outputs": [],
   "source": []
  }
 ],
 "metadata": {
  "kernelspec": {
   "display_name": "Python 2",
   "language": "python",
   "name": "python2"
  },
  "language_info": {
   "codemirror_mode": {
    "name": "ipython",
    "version": 2
   },
   "file_extension": ".py",
   "mimetype": "text/x-python",
   "name": "python",
   "nbconvert_exporter": "python",
   "pygments_lexer": "ipython2",
   "version": "2.7.9"
  }
 },
 "nbformat": 4,
 "nbformat_minor": 0
}
