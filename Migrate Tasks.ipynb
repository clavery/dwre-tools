{
 "cells": [
  {
   "cell_type": "code",
   "execution_count": 1,
   "metadata": {
    "collapsed": false
   },
   "outputs": [],
   "source": [
    "%load_ext autoreload\n",
    "%autoreload 2"
   ]
  },
  {
   "cell_type": "code",
   "execution_count": 2,
   "metadata": {
    "collapsed": true
   },
   "outputs": [],
   "source": [
    "import requests\n",
    "import zipfile\n",
    "import io\n",
    "import time\n",
    "from datetime import datetime\n",
    "import pyquery\n",
    "import thread\n",
    "import os\n",
    "from lxml import etree as ET\n",
    "from collections import defaultdict"
   ]
  },
  {
   "cell_type": "markdown",
   "metadata": {},
   "source": [
    "## Environment"
   ]
  },
  {
   "cell_type": "code",
   "execution_count": 3,
   "metadata": {
    "collapsed": false
   },
   "outputs": [],
   "source": [
    "from dwre_tools.env import get_default_project, get_project, load_config, get_environment\n",
    "import dwre_tools"
   ]
  },
  {
   "cell_type": "code",
   "execution_count": 4,
   "metadata": {
    "collapsed": false
   },
   "outputs": [],
   "source": [
    "PROJECT = get_project(\"swk\")\n",
    "ENV = get_environment(\"dev01\", PROJECT)\n",
    "\n",
    "MIGRATIONS_DIR = \"/Users/clavery/code/swk/swk-demandware-website/migrations/\""
   ]
  },
  {
   "cell_type": "markdown",
   "metadata": {},
   "source": [
    "## Login Session"
   ]
  },
  {
   "cell_type": "code",
   "execution_count": 376,
   "metadata": {
    "collapsed": false
   },
   "outputs": [],
   "source": [
    "webdavsession = requests.session()\n",
    "webdavsession.auth=(ENV[\"username\"], ENV[\"password\"],)\n",
    "bmsession = requests.session()"
   ]
  },
  {
   "cell_type": "code",
   "execution_count": 377,
   "metadata": {
    "collapsed": false
   },
   "outputs": [
    {
     "data": {
      "text/plain": [
       "<Response [200]>"
      ]
     },
     "execution_count": 377,
     "metadata": {},
     "output_type": "execute_result"
    }
   ],
   "source": [
    "bmsession.post(\"https://{}/on/demandware.store/Sites-Site/default/ViewApplication-ProcessLogin\".format(ENV[\"server\"]),\n",
    "               data=dict(\n",
    "                    LoginForm_Login=ENV[\"username\"],\n",
    "                    LoginForm_Password=ENV[\"password\"],\n",
    "                    LocaleID=\"\",\n",
    "                    LoginForm_RegistrationDomain=\"Sites\",\n",
    "                    login=\"\"\n",
    "                ))"
   ]
  },
  {
   "cell_type": "markdown",
   "metadata": {},
   "source": [
    "## Utilities"
   ]
  },
  {
   "cell_type": "code",
   "execution_count": 332,
   "metadata": {
    "collapsed": true
   },
   "outputs": [],
   "source": [
    "def wait_for_import(session, filename):\n",
    "    response = session.get(\"https://{}/on/demandware.store/Sites-Site/default/ViewSiteImpex-Status\".format(ENV[\"server\"]))\n",
    "    response_q = pyquery.PyQuery( response.content)\n",
    "    log_link = response_q.find(\"a:contains('Site Import'):contains('%s')\" % filename).eq(0).attr(\"href\")\n",
    "    if not log_link:\n",
    "        raise Exception(\"Failure to find status link for %s. Check import log.\" % filename)\n",
    "    finished = False\n",
    "    while not finished: \n",
    "        log_response = session.get(log_link)\n",
    "        if \"finished successfully\" in log_response.content:\n",
    "            finished = True\n",
    "        elif \"aborted\" in log_response.content:\n",
    "            raise Exception(\"Failure to import %s. Check import log.\" % filename)\n",
    "        else:\n",
    "            thread.sleep(2)"
   ]
  },
  {
   "cell_type": "code",
   "execution_count": 368,
   "metadata": {
    "collapsed": true
   },
   "outputs": [],
   "source": [
    "SCHEMA_MAP = {\n",
    "    \"abtest\" : \"abtest.xsd\",\n",
    "    \"bmext\" : \"bmext.xsd\",\n",
    "    \"cache-settings\" : \"cachesettings.xsd\",\n",
    "    \"catalog\" : \"catalog.xsd\",\n",
    "    \"coupons\" : \"coupon.xsd\",\n",
    "    \"coupon-redemptions\" : \"couponredemption.xsd\",\n",
    "    \"customers\" : \"customer.xsd\",\n",
    "    \"customer-groups\" : \"customergroup.xsd\",\n",
    "    \"customer-lists\" : \"customerlist.xsd\",\n",
    "    \"customerpaymentinstrument\" : \"customerpaymentinstrument.xsd\",\n",
    "    \"custom-objects\" : \"customobject.xsd\",\n",
    "    \"feeds\" : \"feed.xsd\",\n",
    "    \"form\" : \"form.xsd\",\n",
    "    \"geolocations\" : \"geolocation.xsd\",\n",
    "    \"gift-certificates\" : \"giftcertificate.xsd\",\n",
    "    \"inventory\" : \"inventory.xsd\",\n",
    "    \"library\" : \"library.xsd\",\n",
    "    \"metadata\" : \"metadata.xsd\",\n",
    "    \"oauth\" : \"oauth.xsd\",\n",
    "    \"orders\" : \"order.xsd\",\n",
    "    \"payment-settings\" : \"paymentmethod.xsd\",\n",
    "    \"payment-processors\" : \"paymentprocessor.xsd\",\n",
    "    \"preferences\" : \"preferences.xsd\",\n",
    "    \"pricebooks\" : \"pricebook.xsd\",\n",
    "    \"product-lists\" : \"productlist.xsd\",\n",
    "    \"promotions\" : \"promotion.xsd\",\n",
    "    \"redirect-urls\" : \"redirecturl.xsd\",\n",
    "    \"schedules\" : \"schedules.xsd\",\n",
    "    \"search\" : \"search.xsd\",\n",
    "    \"search2\" : \"search2.xsd\",\n",
    "    \"services\" : \"services.xsd\",\n",
    "    \"shipping\" : \"shipping.xsd\",\n",
    "    \"site\" : \"site.xsd\",\n",
    "    \"slot-configurations\" : \"slot.xsd\",\n",
    "    \"sort\" : \"sort.xsd\",\n",
    "    \"sourcecodes\" : \"sourcecode.xsd\",\n",
    "    \"stores\" : \"store.xsd\",\n",
    "    \"tax\" : \"tax.xsd\",\n",
    "    \"url-rules\" : \"urlrules.xsd\",\n",
    "    \"xml\" : \"xml.xsd\"\n",
    "}\n",
    "\n",
    "def validate_xml(filename):\n",
    "    xml = ET.parse(filename)\n",
    "    root_el = xml.getroot()\n",
    "    root_tag = root_el.tag[root_el.tag.find('}')+1:]\n",
    "    if root_tag not in SCHEMA_MAP:\n",
    "        raise Exception(\"cannot find schema for %s\" % root_tag)\n",
    "    schema_name = SCHEMA_MAP[root_tag]\n",
    "    schema = ET.XMLSchema(file=os.path.join(dwre_tools.__path__[0], 'schemas', schema_name))\n",
    "    schema.assertValid(xml)\n"
   ]
  },
  {
   "cell_type": "code",
   "execution_count": 369,
   "metadata": {
    "collapsed": false
   },
   "outputs": [],
   "source": [
    "validate_xml(\"/Users/clavery/Downloads/05182015-ContentAssets/libraries/VibramGlobalSharedLibrary/library.xml\")\n"
   ]
  },
  {
   "cell_type": "markdown",
   "metadata": {},
   "source": [
    "## Bootstrap"
   ]
  },
  {
   "cell_type": "code",
   "execution_count": 387,
   "metadata": {
    "collapsed": true
   },
   "outputs": [],
   "source": [
    "TOOL_VERSION = u\"4\"\n",
    "BOOTSTRAP_META = \"\"\"<?xml version=\"1.0\" encoding=\"UTF-8\"?>\n",
    "<metadata xmlns=\"http://www.demandware.com/xml/impex/metadata/2006-10-31\">\n",
    "    <type-extension type-id=\"OrganizationPreferences\">\n",
    "        <custom-attribute-definitions>\n",
    "            <attribute-definition attribute-id=\"dwreMigrateCurrentVersion\">\n",
    "                <display-name xml:lang=\"x-default\">DWRE Migrate Current Version</display-name>\n",
    "                <description>DO NOT MODIFY THIS VALUE UNLESS YOU UNDERSTAND THE CONSEQUENCES. PERFORM A SITE BACKUP BEFORE MANUAL MODIFICATION</description>\n",
    "                <type>string</type>\n",
    "                <site-specific-flag>false</site-specific-flag>\n",
    "                <mandatory-flag>false</mandatory-flag>\n",
    "                <externally-managed-flag>true</externally-managed-flag>\n",
    "                <min-length>0</min-length>\n",
    "            </attribute-definition>\n",
    "            <attribute-definition attribute-id=\"dwreMigrateToolVersion\">\n",
    "                <display-name xml:lang=\"x-default\">DWRE Migrate Tool Version</display-name>\n",
    "                <description>DO NOT MODIFY THIS VALUE UNLESS YOU UNDERSTAND THE CONSEQUENCES. PERFORM A SITE BACKUP BEFORE MANUAL MODIFICATION</description>\n",
    "                <type>string</type>\n",
    "                <site-specific-flag>false</site-specific-flag>\n",
    "                <mandatory-flag>false</mandatory-flag>\n",
    "                <externally-managed-flag>true</externally-managed-flag>\n",
    "                <min-length>0</min-length>\n",
    "                <default-value>1</default-value>\n",
    "            </attribute-definition>\n",
    "        </custom-attribute-definitions>\n",
    "        <group-definitions>\n",
    "            <attribute-group group-id=\"dwreMigrate\">\n",
    "                <display-name xml:lang=\"x-default\">DWREMigrate</display-name>\n",
    "                <attribute attribute-id=\"dwreMigrateCurrentVersion\"/>\n",
    "                <attribute attribute-id=\"dwreMigrateToolVersion\"/>\n",
    "            </attribute-group>\n",
    "        </group-definitions>\n",
    "    </type-extension>\n",
    "</metadata>\n",
    "\"\"\""
   ]
  },
  {
   "cell_type": "code",
   "execution_count": 388,
   "metadata": {
    "collapsed": true
   },
   "outputs": [],
   "source": [
    "PREFERENCES = \"\"\"<?xml version=\"1.0\" encoding=\"UTF-8\"?>\n",
    "<preferences xmlns=\"http://www.demandware.com/xml/impex/preferences/2007-03-31\">\n",
    "    <custom-preferences>\n",
    "        <all-instances>\n",
    "            <preference preference-id=\"dwreMigrateToolVersion\">%s</preference>\n",
    "        </all-instances>\n",
    "    </custom-preferences>\n",
    "</preferences>\n",
    "\"\"\" % (TOOL_VERSION)\n",
    "\n",
    "VERSION = \"\"\"###########################################\n",
    "# Generated file, do not edit.\n",
    "# Copyright (c) 2015 by Demandware, Inc.\n",
    "###########################################\n",
    "15.5.2\n",
    "\"\"\""
   ]
  },
  {
   "cell_type": "code",
   "execution_count": 389,
   "metadata": {
    "collapsed": true
   },
   "outputs": [],
   "source": [
    "dest_file = \"DWREMigrateBootstrap_v{}\".format(TOOL_VERSION)"
   ]
  },
  {
   "cell_type": "code",
   "execution_count": 390,
   "metadata": {
    "collapsed": false
   },
   "outputs": [],
   "source": [
    "bootstrap_package_file = io.BytesIO()\n",
    "bootstrap_package_zip = zipfile.ZipFile(bootstrap_package_file, \"w\")"
   ]
  },
  {
   "cell_type": "code",
   "execution_count": 391,
   "metadata": {
    "collapsed": false
   },
   "outputs": [],
   "source": [
    "bootstrap_package_zip.writestr(\"{}/version.txt\".format(dest_file), VERSION)\n",
    "bootstrap_package_zip.writestr(\"{}/preferences.xml\".format(dest_file), PREFERENCES.encode(\"utf-8\"))\n",
    "bootstrap_package_zip.writestr(\"{}/meta/system-objecttype-extensions.xml\".format(dest_file), BOOTSTRAP_META)\n",
    "bootstrap_package_zip.close()"
   ]
  },
  {
   "cell_type": "code",
   "execution_count": 298,
   "metadata": {
    "collapsed": false
   },
   "outputs": [],
   "source": [
    "with open(\"test.zip\", \"wb\") as f:\n",
    "    bootstrap_package_file.seek(0)\n",
    "    f.write(bootstrap_package_file.read())"
   ]
  },
  {
   "cell_type": "markdown",
   "metadata": {},
   "source": [
    "### Upload Bootstrap"
   ]
  },
  {
   "cell_type": "code",
   "execution_count": 191,
   "metadata": {
    "collapsed": false
   },
   "outputs": [
    {
     "data": {
      "text/plain": [
       "<Response [201]>"
      ]
     },
     "execution_count": 191,
     "metadata": {},
     "output_type": "execute_result"
    }
   ],
   "source": [
    "dest_url = \"https://{0}/on/demandware.servlet/webdav/Sites/Impex/src/instance/{1}.zip\".format(\n",
    "    ENV[\"server\"], dest_file)\n",
    "webdavsession.put(dest_url, data=bootstrap_package_file)"
   ]
  },
  {
   "cell_type": "markdown",
   "metadata": {},
   "source": [
    "### Activate Bootstrap"
   ]
  },
  {
   "cell_type": "code",
   "execution_count": 192,
   "metadata": {
    "collapsed": false
   },
   "outputs": [],
   "source": [
    "response = bmsession.post(\"https://{}/on/demandware.store/Sites-Site/default/ViewSiteImpex-Dispatch\".format(ENV[\"server\"]),\n",
    "                          data={\"import\" :\"\", \"ImportFileName\" : dest_file + \".zip\", \"realmUse\": \"False\"})"
   ]
  },
  {
   "cell_type": "code",
   "execution_count": 193,
   "metadata": {
    "collapsed": false
   },
   "outputs": [],
   "source": [
    "wait_for_import()"
   ]
  },
  {
   "cell_type": "markdown",
   "metadata": {},
   "source": [
    "### Delete Impex Files"
   ]
  },
  {
   "cell_type": "code",
   "execution_count": 194,
   "metadata": {
    "collapsed": false
   },
   "outputs": [
    {
     "data": {
      "text/plain": [
       "<Response [204]>"
      ]
     },
     "execution_count": 194,
     "metadata": {},
     "output_type": "execute_result"
    }
   ],
   "source": [
    "dest_url = \"https://{0}/on/demandware.servlet/webdav/Sites/Impex/src/instance/{1}.zip\".format(\n",
    "    ENV[\"server\"], dest_file)\n",
    "webdavsession.delete(dest_url)"
   ]
  },
  {
   "cell_type": "markdown",
   "metadata": {},
   "source": [
    "## Load Migrations Context"
   ]
  },
  {
   "cell_type": "markdown",
   "metadata": {},
   "source": [
    "### Query Versions"
   ]
  },
  {
   "cell_type": "code",
   "execution_count": 395,
   "metadata": {
    "collapsed": false
   },
   "outputs": [
    {
     "name": "stdout",
     "output_type": "stream",
     "text": [
      "Tool version up to date\n"
     ]
    }
   ],
   "source": [
    "versions_url = \"https://{}/on/demandware.store/Sites-Site/default/DWREMigrate-Versions\".format(ENV[\"server\"])\n",
    "response = bmsession.get(versions_url)\n",
    "\n",
    "if \"application/json\" not in response.headers['content-type']:\n",
    "    print \"Error\"\n",
    "else:\n",
    "    tool_version = response.json()[\"toolVersion\"]\n",
    "    migration_version = response.json()[\"migrationVersion\"]\n",
    "    bootstrap_required = response.json()[\"missingToolVersion\"]\n",
    "    if int(TOOL_VERSION) > int(tool_version):\n",
    "        print \"Upgrade Needed\", TOOL_VERSION, tool_version\n",
    "    else:\n",
    "        print \"Tool version up to date\"\n",
    "        "
   ]
  },
  {
   "cell_type": "markdown",
   "metadata": {},
   "source": [
    "## Determine Required Migrations"
   ]
  },
  {
   "cell_type": "code",
   "execution_count": 396,
   "metadata": {
    "collapsed": true
   },
   "outputs": [],
   "source": [
    "def find_path(graph, start, path=None):\n",
    "    if path is None:\n",
    "        path = []\n",
    "        \n",
    "    path = path + [start]\n",
    "\n",
    "    if not graph.has_key(start):\n",
    "        return path\n",
    "    \n",
    "    for node in graph[start]:\n",
    "        if node not in path:\n",
    "            newpath = find_path(graph, node, path)\n",
    "            if newpath: return newpath\n",
    "            else: return path\n",
    "    return None"
   ]
  },
  {
   "cell_type": "code",
   "execution_count": 397,
   "metadata": {
    "collapsed": false
   },
   "outputs": [],
   "source": [
    "migrations = []\n",
    "X = \"{http://www.pixelmedia.com/xml/dwremigrate}\"\n",
    "\n",
    "if int(TOOL_VERSION) > int(tool_version):\n",
    "    migrations.append({\"id\" : \"bootstrap\", \"location\" : bootstrap_package_file, \"description\" : \"DWRE Migrate Tool Upgrade\"})\n",
    "elif bootstrap_required:\n",
    "    migrations.append({\"id\" : \"bootstrap\", \"location\" : bootstrap_package_file, \"description\" : \"DWRE Migrate Bootstrap\"})\n",
    "    \n",
    "    \n",
    "migrations_file = os.path.join(MIGRATIONS_DIR, \"migrations.xml\")\n",
    "assert os.path.exists(migrations_file), \"Cannot find migrations.xml\"\n",
    "migrations_context = ET.parse(migrations_file)\n",
    "\n",
    "# validate migrations\n",
    "schema = ET.XMLSchema(file=os.path.join(dwre_tools.__path__[0], 'schemas', 'dwre-migrate.xsd'))\n",
    "if not schema.validate(migrations_context):\n",
    "    print \"Migrations context not valid\"\n",
    "    print schema.error_log\n",
    "\n",
    "migration_nodes = defaultdict(list)\n",
    "migration_data = {}\n",
    "for migration in migrations_context.getroot():\n",
    "    id = migration.attrib[\"id\"]\n",
    "    location = migration.find(X + \"location\").text\n",
    "    description_el = migration.find(X + \"description\")\n",
    "    parent_el = migration.find(X + \"parent\")\n",
    "    \n",
    "    description = \"\"\n",
    "    if description_el is not None:\n",
    "        description = description_el.text\n",
    "        \n",
    "    migration_data[id] = {\"id\": id, \"location\" : location, \"description\": description}\n",
    "    if parent_el is not None:\n",
    "        migration_nodes[parent_el.text].append(id)\n",
    "    else:\n",
    "        migration_nodes[None].append(id)\n",
    "    \n",
    "# validate root exists\n",
    "assert migration_nodes[None], \"Cannot find root migration (migration with no parent)\"\n",
    "\n",
    "errors = []\n",
    "# validate graph structure\n",
    "for parent, names in migration_nodes.items():\n",
    "    if parent and parent not in migration_data:\n",
    "        errors.append(\"Cannot find migration: {}\".format(parent))\n",
    "    if len(names) != 1:\n",
    "        errors.append(\"Migration ({}) has multiple ({}) children\".format(\n",
    "                      parent if parent else \"ROOT\", [m for m in names]))\n",
    "\n",
    "assert migration_version is None or migration_version in migration_data, \"Cannot find migration %s; requires manual intervention\" % migration_version\n",
    "\n",
    "if errors:\n",
    "    print \"Errors in migration context: \"\n",
    "    for e in errors:\n",
    "        print e\n",
    "else:\n",
    "    path = []\n",
    "    if migration_nodes[migration_version]:\n",
    "        path = find_path(migration_nodes, migration_nodes[migration_version].pop())\n",
    "    migrations.extend([migration_data[m] for m in path])"
   ]
  },
  {
   "cell_type": "code",
   "execution_count": 398,
   "metadata": {
    "collapsed": false
   },
   "outputs": [
    {
     "name": "stdout",
     "output_type": "stream",
     "text": [
      "3 migrations required...\n",
      "[2015-07-10_initial] Initial SWK Site Migration\n",
      "[2015-07-10_m2] m2 description\n",
      "[2015-07-10_m3] \n"
     ]
    }
   ],
   "source": [
    "if migrations:\n",
    "    print \"%s migrations required...\" % len(migrations)\n",
    "else:\n",
    "    print \"No migrations required. Instance is up to date: %s\" % migration_version\n",
    "for migration in migrations:\n",
    "    print \"[%s] %s\" % (migration[\"id\"], migration[\"description\"])\n",
    " \n",
    "migrate = \"test\"\n",
    "if migrate:\n",
    "    pass"
   ]
  },
  {
   "cell_type": "markdown",
   "metadata": {},
   "source": [
    "## Perform Migrations"
   ]
  },
  {
   "cell_type": "code",
   "execution_count": 17,
   "metadata": {
    "collapsed": true
   },
   "outputs": [],
   "source": [
    "def directory_to_zip(directory, filename):\n",
    "    zip_file_io = io.BytesIO()\n",
    "    zip_file = zipfile.ZipFile(zip_file_io, \"w\")\n",
    "\n",
    "    for (dirpath, dirnames, filenames) in os.walk(directory):\n",
    "        basepath = dirpath[len(directory)+1:]\n",
    "        for fname in filenames:\n",
    "            print \"fname\", fname\n",
    "            print \"basepath\", basepath\n",
    "            zip_file.write(os.path.join(dirpath, fname), os.path.join(filename, basepath, fname))\n",
    "    zip_file.close()\n",
    "    return zip_file_io"
   ]
  },
  {
   "cell_type": "code",
   "execution_count": 400,
   "metadata": {
    "collapsed": false
   },
   "outputs": [
    {
     "name": "stdout",
     "output_type": "stream",
     "text": [
      "Migrated 2015-07-10_initial in 1.228 seconds\n",
      "Migrated 2015-07-10_m2 in 0.843 seconds\n",
      "Migrated 2015-07-10_m3 in 0.863 seconds\n"
     ]
    }
   ],
   "source": [
    "for migration in migrations:\n",
    "    start_time = time.time()\n",
    "    zip_filename = \"dwremigrate_%s\" % migration[\"id\"]\n",
    "    if isinstance(migration[\"location\"], io.BytesIO):\n",
    "        zip_file = migration[\"location\"]\n",
    "        zip_filename = \"DWREMigrateBootstrap_v{}\".format(TOOL_VERSION)\n",
    "    else:\n",
    "        zip_file = directory_to_zip(os.path.join(MIGRATIONS_DIR, migration[\"location\"]), zip_filename)\n",
    "    \n",
    "    # upload\n",
    "    dest_url = \"https://{0}/on/demandware.servlet/webdav/Sites/Impex/src/instance/{1}.zip\".format(\n",
    "    ENV[\"server\"], zip_filename)\n",
    "    webdavsession.put(dest_url, data=zip_file)\n",
    "    \n",
    "    # activate\n",
    "    response = bmsession.post(\"https://{}/on/demandware.store/Sites-Site/default/ViewSiteImpex-Dispatch\".format(ENV[\"server\"]),\n",
    "                          data={\"import\" :\"\", \"ImportFileName\" : zip_filename + \".zip\", \"realmUse\": \"False\"})\n",
    "    \n",
    "    wait_for_import(bmsession, zip_filename)\n",
    "    \n",
    "    # update migration version\n",
    "    if migration[\"id\"] != \"bootstrap\":\n",
    "        response = bmsession.post(\"https://{}/on/demandware.store/Sites-Site/default/DWREMigrate-UpdateVersion\".format(ENV[\"server\"]),\n",
    "                                  data={\"NewVersion\" : migration[\"id\"]})\n",
    "    \n",
    "    # delete file\n",
    "    dest_url = \"https://{0}/on/demandware.servlet/webdav/Sites/Impex/src/instance/{1}.zip\".format(\n",
    "                ENV[\"server\"], zip_filename)\n",
    "    webdavsession.delete(dest_url)\n",
    "    \n",
    "    end_time = time.time()\n",
    "    print \"Migrated %s in %.3f seconds\" % (migration[\"id\"], end_time - start_time)"
   ]
  },
  {
   "cell_type": "markdown",
   "metadata": {
    "collapsed": true
   },
   "source": [
    "## Client Certificate"
   ]
  },
  {
   "cell_type": "code",
   "execution_count": 21,
   "metadata": {
    "collapsed": false
   },
   "outputs": [
    {
     "name": "stdout",
     "output_type": "stream",
     "text": [
      "fname .DS_Store\n",
      "basepath \n",
      "fname preferences.xml\n",
      "basepath \n",
      "fname version.txt\n",
      "basepath \n",
      "fname system-objecttype-extensions.xml\n",
      "basepath meta\n"
     ]
    },
    {
     "name": "stderr",
     "output_type": "stream",
     "text": [
      "/Users/clavery/.venv/default/lib/python2.7/site-packages/requests/packages/urllib3/connectionpool.py:768: InsecureRequestWarning: Unverified HTTPS request is being made. Adding certificate verification is strongly advised. See: https://urllib3.readthedocs.org/en/latest/security.html\n",
      "  InsecureRequestWarning)\n"
     ]
    },
    {
     "data": {
      "text/plain": [
       "<Response [204]>"
      ]
     },
     "execution_count": 21,
     "metadata": {},
     "output_type": "execute_result"
    }
   ],
   "source": [
    "webdavsession = requests.session()\n",
    "webdavsession.auth=(\"clavery\", \"JG7hlmrLGgXttQu1!\",)\n",
    "webdavsession.cert=(\"build.crt\", \"build_private.key\",)\n",
    "webdavsession.verify=False\n",
    "\n",
    "test_zip = directory_to_zip(\"./DWREMigrateBootstrap\", \"test\")\n",
    "webdavsession.put(\"https://cert.staging.web.stonewall.demandware.net/on/demandware.servlet/webdav/Sites/Impex/src/instance/test.zip\",\n",
    "                 data=test_zip)"
   ]
  },
  {
   "cell_type": "code",
   "execution_count": 20,
   "metadata": {
    "collapsed": false
   },
   "outputs": [
    {
     "data": {
      "text/plain": [
       "True"
      ]
     },
     "execution_count": 20,
     "metadata": {},
     "output_type": "execute_result"
    }
   ],
   "source": [
    "webdavsession.verify"
   ]
  },
  {
   "cell_type": "code",
   "execution_count": null,
   "metadata": {
    "collapsed": true
   },
   "outputs": [],
   "source": []
  }
 ],
 "metadata": {
  "kernelspec": {
   "display_name": "Python 2",
   "language": "python",
   "name": "python2"
  },
  "language_info": {
   "codemirror_mode": {
    "name": "ipython",
    "version": 2
   },
   "file_extension": ".py",
   "mimetype": "text/x-python",
   "name": "python",
   "nbconvert_exporter": "python",
   "pygments_lexer": "ipython2",
   "version": "2.7.9"
  }
 },
 "nbformat": 4,
 "nbformat_minor": 0
}
