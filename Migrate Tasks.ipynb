{
 "cells": [
  {
   "cell_type": "code",
   "execution_count": 17,
   "metadata": {
    "collapsed": false
   },
   "outputs": [
    {
     "name": "stdout",
     "output_type": "stream",
     "text": [
      "The autoreload extension is already loaded. To reload it, use:\n",
      "  %reload_ext autoreload\n"
     ]
    }
   ],
   "source": [
    "%load_ext autoreload\n",
    "%autoreload 2"
   ]
  },
  {
   "cell_type": "code",
   "execution_count": 119,
   "metadata": {
    "collapsed": true
   },
   "outputs": [],
   "source": [
    "import requests\n",
    "import zipfile\n",
    "import io\n",
    "from datetime import datetime\n",
    "import pyquery\n",
    "import thread"
   ]
  },
  {
   "cell_type": "markdown",
   "metadata": {},
   "source": [
    "## Environment"
   ]
  },
  {
   "cell_type": "code",
   "execution_count": 23,
   "metadata": {
    "collapsed": false
   },
   "outputs": [],
   "source": [
    "from dwre_tools.env import get_default_project, get_project, load_config, get_environment"
   ]
  },
  {
   "cell_type": "code",
   "execution_count": 24,
   "metadata": {
    "collapsed": false
   },
   "outputs": [],
   "source": [
    "PROJECT = get_project(\"partner\")\n",
    "ENV = get_environment(\"sandbox\", PROJECT)"
   ]
  },
  {
   "cell_type": "markdown",
   "metadata": {},
   "source": [
    "## Login Session"
   ]
  },
  {
   "cell_type": "code",
   "execution_count": 61,
   "metadata": {
    "collapsed": false
   },
   "outputs": [],
   "source": [
    "webdavsession = requests.session()\n",
    "webdavsession.auth=(ENV[\"username\"], ENV[\"password\"],)\n",
    "bmsession = requests.session()"
   ]
  },
  {
   "cell_type": "code",
   "execution_count": 66,
   "metadata": {
    "collapsed": false
   },
   "outputs": [
    {
     "name": "stderr",
     "output_type": "stream",
     "text": [
      "/Users/clavery/.venv/default/lib/python2.7/site-packages/requests/packages/urllib3/connectionpool.py:768: InsecureRequestWarning: Unverified HTTPS request is being made. Adding certificate verification is strongly advised. See: https://urllib3.readthedocs.org/en/latest/security.html\n",
      "  InsecureRequestWarning)\n",
      "/Users/clavery/.venv/default/lib/python2.7/site-packages/requests/packages/urllib3/connectionpool.py:768: InsecureRequestWarning: Unverified HTTPS request is being made. Adding certificate verification is strongly advised. See: https://urllib3.readthedocs.org/en/latest/security.html\n",
      "  InsecureRequestWarning)\n"
     ]
    },
    {
     "data": {
      "text/plain": [
       "<Response [200]>"
      ]
     },
     "execution_count": 66,
     "metadata": {},
     "output_type": "execute_result"
    }
   ],
   "source": [
    "bmsession.post(\"https://{}/on/demandware.store/Sites-Site/default/ViewApplication-ProcessLogin\".format(ENV[\"server\"]),\n",
    "               data=dict(\n",
    "                    LoginForm_Login=ENV[\"username\"],\n",
    "                    LoginForm_Password=ENV[\"password\"],\n",
    "                    LocaleID=\"\",\n",
    "                    LoginForm_RegistrationDomain=\"Sites\",\n",
    "                    login=\"\"\n",
    "                ), verify=False)"
   ]
  },
  {
   "cell_type": "markdown",
   "metadata": {},
   "source": [
    "## Utilities"
   ]
  },
  {
   "cell_type": "code",
   "execution_count": 122,
   "metadata": {
    "collapsed": true
   },
   "outputs": [],
   "source": [
    "def wait_for_import():\n",
    "    response = bmsession.get(\"https://{}/on/demandware.store/Sites-Site/default/ViewSiteImpex-Status\".format(ENV[\"server\"]))\n",
    "    response_q = pyquery.PyQuery( response.content)\n",
    "    log_link = response_q.find(\"a:contains('Site Import')\").eq(0).attr(\"href\")\n",
    "    finished = False\n",
    "    while not finished: \n",
    "        log_response = bmsession.get(log_link)\n",
    "        if \"finished successfully\" in log_response.content:\n",
    "            finished = True\n",
    "        else:\n",
    "            thread.sleep(2)"
   ]
  },
  {
   "cell_type": "markdown",
   "metadata": {},
   "source": [
    "## Bootstrap"
   ]
  },
  {
   "cell_type": "code",
   "execution_count": 48,
   "metadata": {
    "collapsed": true
   },
   "outputs": [],
   "source": [
    "TOOL_VERSION = \"1\"\n",
    "BOOTSTRAP_META = \"\"\"<?xml version=\"1.0\" encoding=\"UTF-8\"?>\n",
    "<metadata xmlns=\"http://www.demandware.com/xml/impex/metadata/2006-10-31\">\n",
    "    <type-extension type-id=\"OrganizationPreferences\">\n",
    "        <custom-attribute-definitions>\n",
    "            <attribute-definition attribute-id=\"dwreMigrateCurrentVersion\">\n",
    "                <display-name xml:lang=\"x-default\">DWRE Migrate Current Version</display-name>\n",
    "                <type>string</type>\n",
    "                <mandatory-flag>false</mandatory-flag>\n",
    "                <externally-managed-flag>false</externally-managed-flag>\n",
    "                <min-length>0</min-length>\n",
    "            </attribute-definition>\n",
    "            <attribute-definition attribute-id=\"dwreMigrateToolVersion\">\n",
    "                <display-name xml:lang=\"x-default\">DWRE Migrate Tool Version</display-name>\n",
    "                <type>string</type>\n",
    "                <mandatory-flag>false</mandatory-flag>\n",
    "                <externally-managed-flag>false</externally-managed-flag>\n",
    "                <min-length>0</min-length>\n",
    "                <default-value>{0}</default-value>\n",
    "            </attribute-definition>\n",
    "        </custom-attribute-definitions>\n",
    "        <group-definitions>\n",
    "            <attribute-group group-id=\"dwreMigrate\">\n",
    "                <display-name xml:lang=\"x-default\">DWREMigrate</display-name>\n",
    "                <attribute attribute-id=\"dwreMigrateCurrentVersion\"/>\n",
    "                <attribute attribute-id=\"dwreMigrateToolVersion\"/>\n",
    "            </attribute-group>\n",
    "        </group-definitions>\n",
    "    </type-extension>\n",
    "</metadata>\n",
    "\"\"\".format(TOOL_VERSION)"
   ]
  },
  {
   "cell_type": "code",
   "execution_count": 49,
   "metadata": {
    "collapsed": true
   },
   "outputs": [],
   "source": [
    "PREFERENCES = \"\"\"<?xml version=\"1.0\" encoding=\"UTF-8\"?>\n",
    "<preferences xmlns=\"http://www.demandware.com/xml/impex/preferences/2007-03-31\">\n",
    "    <custom-preferences>\n",
    "        <all-instances>\n",
    "            <preference preference-id=\"dwreMigrateToolVersion\">1</preference>\n",
    "        </all-instances>\n",
    "    </custom-preferences>\n",
    "</preferences>\n",
    "\"\"\"\n",
    "\n",
    "VERSION = \"\"\"###########################################\n",
    "# Generated file, do not edit.\n",
    "# Copyright (c) 2015 by Demandware, Inc.\n",
    "###########################################\n",
    "15.5.2\n",
    "\"\"\""
   ]
  },
  {
   "cell_type": "code",
   "execution_count": 107,
   "metadata": {
    "collapsed": true
   },
   "outputs": [],
   "source": [
    "dest_file = \"DWREMigrateBootstrap_{}\".format(datetime.now().isoformat())"
   ]
  },
  {
   "cell_type": "code",
   "execution_count": 108,
   "metadata": {
    "collapsed": false
   },
   "outputs": [],
   "source": [
    "bootstrap_package_file = io.BytesIO()\n",
    "bootstrap_package_zip = zipfile.ZipFile(bootstrap_package_file, \"w\")"
   ]
  },
  {
   "cell_type": "code",
   "execution_count": 109,
   "metadata": {
    "collapsed": false
   },
   "outputs": [],
   "source": [
    "bootstrap_package_zip.writestr(\"{}/version.txt\".format(dest_file), VERSION)\n",
    "bootstrap_package_zip.writestr(\"{}/preferences.xml\".format(dest_file), PREFERENCES)\n",
    "bootstrap_package_zip.writestr(\"{}/meta/system-objecttype-extensions.xml\".format(dest_file), BOOTSTRAP_META)\n",
    "bootstrap_package_zip.close()"
   ]
  },
  {
   "cell_type": "code",
   "execution_count": 110,
   "metadata": {
    "collapsed": false
   },
   "outputs": [],
   "source": [
    "with open(\"test.zip\", \"wb\") as f:\n",
    "    bootstrap_package_file.seek(0)\n",
    "    f.write(bootstrap_package_file.read())"
   ]
  },
  {
   "cell_type": "markdown",
   "metadata": {},
   "source": [
    "### Upload Bootstrap"
   ]
  },
  {
   "cell_type": "code",
   "execution_count": 111,
   "metadata": {
    "collapsed": false
   },
   "outputs": [
    {
     "name": "stderr",
     "output_type": "stream",
     "text": [
      "/Users/clavery/.venv/default/lib/python2.7/site-packages/requests/packages/urllib3/connectionpool.py:768: InsecureRequestWarning: Unverified HTTPS request is being made. Adding certificate verification is strongly advised. See: https://urllib3.readthedocs.org/en/latest/security.html\n",
      "  InsecureRequestWarning)\n"
     ]
    },
    {
     "data": {
      "text/plain": [
       "<Response [201]>"
      ]
     },
     "execution_count": 111,
     "metadata": {},
     "output_type": "execute_result"
    }
   ],
   "source": [
    "dest_url = \"https://{0}/on/demandware.servlet/webdav/Sites/Impex/src/instance/{1}.zip\".format(\n",
    "    ENV[\"server\"], dest_file)\n",
    "webdavsession.put(dest_url, data=bootstrap_package_file, verify=False)"
   ]
  },
  {
   "cell_type": "markdown",
   "metadata": {},
   "source": [
    "### Activate Bootstrap"
   ]
  },
  {
   "cell_type": "code",
   "execution_count": 121,
   "metadata": {
    "collapsed": false
   },
   "outputs": [
    {
     "name": "stderr",
     "output_type": "stream",
     "text": [
      "/Users/clavery/.venv/default/lib/python2.7/site-packages/requests/packages/urllib3/connectionpool.py:768: InsecureRequestWarning: Unverified HTTPS request is being made. Adding certificate verification is strongly advised. See: https://urllib3.readthedocs.org/en/latest/security.html\n",
      "  InsecureRequestWarning)\n"
     ]
    }
   ],
   "source": [
    "response = bmsession.post(\"https://{}/on/demandware.store/Sites-Site/default/ViewSiteImpex-Dispatch\".format(ENV[\"server\"]),\n",
    "                          data={\"import\" :\"\", \"ImportFileName\" : dest_file + \".zip\", \"realmUse\": \"False\"})"
   ]
  },
  {
   "cell_type": "code",
   "execution_count": 123,
   "metadata": {
    "collapsed": false
   },
   "outputs": [
    {
     "name": "stderr",
     "output_type": "stream",
     "text": [
      "/Users/clavery/.venv/default/lib/python2.7/site-packages/requests/packages/urllib3/connectionpool.py:768: InsecureRequestWarning: Unverified HTTPS request is being made. Adding certificate verification is strongly advised. See: https://urllib3.readthedocs.org/en/latest/security.html\n",
      "  InsecureRequestWarning)\n",
      "/Users/clavery/.venv/default/lib/python2.7/site-packages/requests/packages/urllib3/connectionpool.py:768: InsecureRequestWarning: Unverified HTTPS request is being made. Adding certificate verification is strongly advised. See: https://urllib3.readthedocs.org/en/latest/security.html\n",
      "  InsecureRequestWarning)\n"
     ]
    }
   ],
   "source": [
    "wait_for_import()"
   ]
  },
  {
   "cell_type": "markdown",
   "metadata": {},
   "source": [
    "## Load Migrations Context"
   ]
  },
  {
   "cell_type": "markdown",
   "metadata": {},
   "source": [
    "## Determine Required Migrations"
   ]
  },
  {
   "cell_type": "markdown",
   "metadata": {},
   "source": [
    "## Perform Migrations"
   ]
  },
  {
   "cell_type": "code",
   "execution_count": null,
   "metadata": {
    "collapsed": true
   },
   "outputs": [],
   "source": []
  }
 ],
 "metadata": {
  "kernelspec": {
   "display_name": "Python 2",
   "language": "python",
   "name": "python2"
  },
  "language_info": {
   "codemirror_mode": {
    "name": "ipython",
    "version": 2
   },
   "file_extension": ".py",
   "mimetype": "text/x-python",
   "name": "python",
   "nbconvert_exporter": "python",
   "pygments_lexer": "ipython2",
   "version": "2.7.5"
  }
 },
 "nbformat": 4,
 "nbformat_minor": 0
}
