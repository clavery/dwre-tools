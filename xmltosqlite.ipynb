{
 "cells": [
  {
   "cell_type": "code",
   "execution_count": 70,
   "metadata": {
    "collapsed": true
   },
   "outputs": [],
   "source": [
    "import sqlite3\n",
    "from xml.etree import ElementTree as ET\n",
    "\n",
    "con = sqlite3.connect('customers.db')\n",
    "\n",
    "cur = con.cursor()\n",
    "cur.execute(\"\"\"\n",
    "CREATE TABLE IF NOT EXISTS customers (\n",
    "    customerNo TEXT PRIMARY KEY,\n",
    "    credentials_login,\n",
    "    profile_creationDate,\n",
    "    profile_firstName,\n",
    "    profile_subscribedEmail\n",
    ")\n",
    "\"\"\")\n",
    "cur.execute(\"\"\"\n",
    "CREATE UNIQUE INDEX IF NOT EXISTS customers_credentials_login\n",
    "ON customers(credentials_login);\n",
    "\"\"\"\n",
    ")\n",
    "\n",
    "con.rollback()"
   ]
  },
  {
   "cell_type": "code",
   "execution_count": 4,
   "outputs": [],
   "source": [],
   "metadata": {
    "collapsed": false,
    "pycharm": {
     "name": "#%%\n"
    }
   }
  },
  {
   "cell_type": "code",
   "execution_count": 71,
   "outputs": [],
   "source": [
    "CUSTOMERS_FILE = \"cust.xml\"\n",
    "NS = \"http://www.demandware.com/xml/impex/customer/2006-10-31\"\n"
   ],
   "metadata": {
    "collapsed": false,
    "pycharm": {
     "name": "#%%\n"
    }
   }
  },
  {
   "cell_type": "code",
   "execution_count": 72,
   "outputs": [
    {
     "ename": "TypeError",
     "evalue": "iterparse() got an unexpected keyword argument 'tag'",
     "output_type": "error",
     "traceback": [
      "\u001B[0;31m---------------------------------------------------------------------------\u001B[0m",
      "\u001B[0;31mTypeError\u001B[0m                                 Traceback (most recent call last)",
      "\u001B[0;32m<ipython-input-72-e81e4ee22b0c>\u001B[0m in \u001B[0;36m<module>\u001B[0;34m\u001B[0m\n\u001B[1;32m      1\u001B[0m \u001B[0mcount\u001B[0m \u001B[0;34m=\u001B[0m \u001B[0;36m0\u001B[0m\u001B[0;34m\u001B[0m\u001B[0;34m\u001B[0m\u001B[0m\n\u001B[0;32m----> 2\u001B[0;31m \u001B[0;32mfor\u001B[0m \u001B[0mevent\u001B[0m\u001B[0;34m,\u001B[0m \u001B[0mcustomer\u001B[0m \u001B[0;32min\u001B[0m \u001B[0mET\u001B[0m\u001B[0;34m.\u001B[0m\u001B[0miterparse\u001B[0m\u001B[0;34m(\u001B[0m\u001B[0mCUSTOMERS_FILE\u001B[0m\u001B[0;34m,\u001B[0m \u001B[0mtag\u001B[0m\u001B[0;34m=\u001B[0m\u001B[0;34m\"{%s}customer\"\u001B[0m \u001B[0;34m%\u001B[0m \u001B[0mNS\u001B[0m\u001B[0;34m)\u001B[0m\u001B[0;34m:\u001B[0m\u001B[0;34m\u001B[0m\u001B[0;34m\u001B[0m\u001B[0m\n\u001B[0m\u001B[1;32m      3\u001B[0m     \u001B[0mid\u001B[0m \u001B[0;34m=\u001B[0m \u001B[0mcustomer\u001B[0m\u001B[0;34m.\u001B[0m\u001B[0mattrib\u001B[0m\u001B[0;34m[\u001B[0m\u001B[0;34m\"customer-no\"\u001B[0m\u001B[0;34m]\u001B[0m\u001B[0;34m\u001B[0m\u001B[0;34m\u001B[0m\u001B[0m\n\u001B[1;32m      4\u001B[0m     \u001B[0;31m# repeat for queries into xml\u001B[0m\u001B[0;34m\u001B[0m\u001B[0;34m\u001B[0m\u001B[0;34m\u001B[0m\u001B[0m\n\u001B[1;32m      5\u001B[0m     \u001B[0mcredentials_login\u001B[0m \u001B[0;34m=\u001B[0m \u001B[0mcustomer\u001B[0m\u001B[0;34m.\u001B[0m\u001B[0mfind\u001B[0m\u001B[0;34m(\u001B[0m\u001B[0;34m'.//C:credentials/C:login'\u001B[0m\u001B[0;34m,\u001B[0m \u001B[0mnamespaces\u001B[0m\u001B[0;34m=\u001B[0m\u001B[0;34m{\u001B[0m\u001B[0;34m'C'\u001B[0m\u001B[0;34m:\u001B[0m \u001B[0mNS\u001B[0m\u001B[0;34m}\u001B[0m\u001B[0;34m)\u001B[0m\u001B[0;34m.\u001B[0m\u001B[0mtext\u001B[0m\u001B[0;34m\u001B[0m\u001B[0;34m\u001B[0m\u001B[0m\n",
      "\u001B[0;31mTypeError\u001B[0m: iterparse() got an unexpected keyword argument 'tag'"
     ]
    }
   ],
   "source": [
    "count = 0\n",
    "for event, customer in ET.iterparse(CUSTOMERS_FILE, tag=\"{%s}customer\" % NS):\n",
    "    id = customer.attrib[\"customer-no\"]\n",
    "    # repeat for queries into xml\n",
    "    credentials_login = customer.find('.//C:credentials/C:login', namespaces={'C': NS}).text\n",
    "    profile_firstName = customer.find('.//C:profile/C:first-name', namespaces={'C': NS}).text\n",
    "    profile_creationDate = customer.find('.//C:profile/C:creation-date', namespaces={'C': NS}).text\n",
    "\n",
    "    custom_attributes = customer.find('.//C:profile/C:custom-attributes', namespaces={'C': NS})\n",
    "    profile_subscribedEmail = custom_attributes.find(\".//C:custom-attribute[@attribute-id='subscribedEmail']\", namespaces={'C':NS}).text\n",
    "\n",
    "    try:\n",
    "        cur.execute(\"insert into customers values (?, ?, ?, ?, ?)\",\n",
    "                    (\n",
    "                        id,\n",
    "                        credentials_login,\n",
    "                        profile_firstName,\n",
    "                        profile_creationDate,\n",
    "                        profile_subscribedEmail\n",
    "                    ))\n",
    "    except sqlite3.IntegrityError as e:\n",
    "        print(e, id)\n",
    "        continue\n",
    "    if count % 10 == 0:\n",
    "        print(\"Done %s\" % count)\n",
    "        print(\"Last: \", id, credentials_login, profile_firstName, profile_creationDate)\n",
    "    count = count + 1"
   ],
   "metadata": {
    "collapsed": false,
    "pycharm": {
     "name": "#%%\n"
    }
   }
  },
  {
   "cell_type": "code",
   "execution_count": 65,
   "outputs": [],
   "source": [
    "cur.close()\n",
    "con.commit()"
   ],
   "metadata": {
    "collapsed": false,
    "pycharm": {
     "name": "#%%\n"
    }
   }
  },
  {
   "cell_type": "code",
   "execution_count": 65,
   "outputs": [],
   "source": [],
   "metadata": {
    "collapsed": false,
    "pycharm": {
     "name": "#%%\n"
    }
   }
  },
  {
   "cell_type": "code",
   "execution_count": 65,
   "outputs": [],
   "source": [],
   "metadata": {
    "collapsed": false,
    "pycharm": {
     "name": "#%%\n"
    }
   }
  },
  {
   "cell_type": "code",
   "execution_count": null,
   "outputs": [],
   "source": [],
   "metadata": {
    "collapsed": false,
    "pycharm": {
     "name": "#%%\n"
    }
   }
  }
 ],
 "metadata": {
  "kernelspec": {
   "display_name": "Python 3",
   "language": "python",
   "name": "python3"
  },
  "language_info": {
   "codemirror_mode": {
    "name": "ipython",
    "version": 2
   },
   "file_extension": ".py",
   "mimetype": "text/x-python",
   "name": "python",
   "nbconvert_exporter": "python",
   "pygments_lexer": "ipython2",
   "version": "2.7.6"
  }
 },
 "nbformat": 4,
 "nbformat_minor": 0
}