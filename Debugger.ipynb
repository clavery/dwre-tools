{
 "cells": [
  {
   "cell_type": "code",
   "execution_count": 115,
   "metadata": {
    "collapsed": false
   },
   "outputs": [
    {
     "name": "stdout",
     "output_type": "stream",
     "text": [
      "The autoreload extension is already loaded. To reload it, use:\n",
      "  %reload_ext autoreload\n"
     ]
    }
   ],
   "source": [
    "%load_ext autoreload"
   ]
  },
  {
   "cell_type": "code",
   "execution_count": 116,
   "metadata": {
    "collapsed": false
   },
   "outputs": [],
   "source": [
    "%autoreload 2"
   ]
  },
  {
   "cell_type": "code",
   "execution_count": 117,
   "metadata": {
    "collapsed": false
   },
   "outputs": [],
   "source": [
    "import requests\n",
    "from dwre_tools.env import get_default_environment, get_default_project\n",
    "from dwre_tools.sync import collect_cartridges, sync_command"
   ]
  },
  {
   "cell_type": "code",
   "execution_count": 118,
   "metadata": {
    "collapsed": false
   },
   "outputs": [
    {
     "name": "stdout",
     "output_type": "stream",
     "text": [
      "./test_cartridges/\n"
     ]
    },
    {
     "data": {
      "text/plain": [
       "[('./test_cartridges/app_debugtest', 'app_debugtest')]"
      ]
     },
     "execution_count": 118,
     "metadata": {},
     "output_type": "execute_result"
    }
   ],
   "source": [
    "CARTRIDGES = collect_cartridges(\"./test_cartridges/\")\n",
    "CARTRIDGES"
   ]
  },
  {
   "cell_type": "code",
   "execution_count": 119,
   "metadata": {
    "collapsed": false
   },
   "outputs": [],
   "source": [
    "CLIENT_ID = \"dwre-tools\"\n",
    "name, PROJECT = get_default_project()\n",
    "name, ENV = get_default_environment(PROJECT)"
   ]
  },
  {
   "cell_type": "code",
   "execution_count": 120,
   "metadata": {
    "collapsed": false
   },
   "outputs": [],
   "source": [
    "AUTH = ENV['username'], ENV['password']\n",
    "HEADERS = {\n",
    "    \"x-dw-client-id\" : CLIENT_ID\n",
    "}"
   ]
  },
  {
   "cell_type": "code",
   "execution_count": 138,
   "metadata": {
    "collapsed": false
   },
   "outputs": [
    {
     "name": "stdout",
     "output_type": "stream",
     "text": [
      "Collecting \u001b[36mapp_debugtest\u001b[39m...12 files\n",
      "Syncing code version \u001b[33mclavery\u001b[39m on \u001b[33mdev01-web-ktp.demandware.net\u001b[39m\n",
      "Extracting...\n",
      "\u001b[32mSuccessfully synced cartridges with dev01-web-ktp.demandware.net\u001b[39m\n"
     ]
    }
   ],
   "source": [
    "ENV[\"verify\"] = True\n",
    "ENV[\"cert\"] = None\n",
    "sync_command(ENV, False, cartridge_location=\"test_cartridges/\")"
   ]
  },
  {
   "cell_type": "code",
   "execution_count": 122,
   "metadata": {
    "collapsed": false
   },
   "outputs": [],
   "source": [
    "BASE_URL = \"https://{0}/s/-/dw/debugger/v1_0\".format(ENV['server'])"
   ]
  },
  {
   "cell_type": "code",
   "execution_count": 123,
   "metadata": {
    "collapsed": false
   },
   "outputs": [],
   "source": [
    "session = requests.session()\n",
    "session.auth = AUTH\n",
    "session.headers = HEADERS"
   ]
  },
  {
   "cell_type": "code",
   "execution_count": 124,
   "metadata": {
    "collapsed": true
   },
   "outputs": [],
   "source": [
    "resp = session.delete(BASE_URL + \"/client\")"
   ]
  },
  {
   "cell_type": "code",
   "execution_count": 125,
   "metadata": {
    "collapsed": false
   },
   "outputs": [],
   "source": [
    "resp = session.post(BASE_URL + \"/client\")"
   ]
  },
  {
   "cell_type": "code",
   "execution_count": 126,
   "metadata": {
    "collapsed": false
   },
   "outputs": [
    {
     "name": "stdout",
     "output_type": "stream",
     "text": [
      "\u001b[38;5;28;01mHTTP\u001b[39;00m\u001b[38;5;241m/\u001b[39m\u001b[38;5;241m1.1\u001b[39m \u001b[38;5;241m200\u001b[39m \u001b[38;5;167;01mOK\u001b[39;00m\n",
      "\u001b[38;5;100mcontent-length\u001b[39m\u001b[38;5;241m:\u001b[39m 12\n",
      "\u001b[38;5;100maccept-ranges\u001b[39m\u001b[38;5;241m:\u001b[39m bytes\n",
      "\u001b[38;5;100mserver\u001b[39m\u001b[38;5;241m:\u001b[39m Apache\n",
      "\u001b[38;5;100mx-dw-request-base-id\u001b[39m\u001b[38;5;241m:\u001b[39m WjsA-FiqAi2MAgAK\n",
      "\u001b[38;5;100mcache-control\u001b[39m\u001b[38;5;241m:\u001b[39m max-age=0,no-cache,no-store,must-revalidate\n",
      "\u001b[38;5;100mdate\u001b[39m\u001b[38;5;241m:\u001b[39m Sun, 19 Feb 2017 20:38:05 GMT\n",
      "\u001b[38;5;100mcontent-type\u001b[39m\u001b[38;5;241m:\u001b[39m application/json;charset=UTF-8\n",
      "\n",
      "{\n",
      "    \u001b[38;5;28;01m\"_v\"\u001b[39;00m: \u001b[38;5;124m\"1.0\"\u001b[39m\n",
      "}\n",
      "\n"
     ]
    }
   ],
   "source": [
    "resp = session.get(BASE_URL + \"/breakpoints\")\n",
    "%resp resp"
   ]
  },
  {
   "cell_type": "code",
   "execution_count": 127,
   "metadata": {
    "collapsed": false
   },
   "outputs": [],
   "source": [
    "BREAKPOINTS = {\n",
    "    \"breakpoints\" : [\n",
    "        {\n",
    "          \"line_number\":32,\n",
    "          \"script_path\":\"/app_debugtest/cartridge/controllers/DebuggerTesting.js\"\n",
    "        }\n",
    "    ]\n",
    "}"
   ]
  },
  {
   "cell_type": "code",
   "execution_count": 128,
   "metadata": {
    "collapsed": false
   },
   "outputs": [
    {
     "name": "stdout",
     "output_type": "stream",
     "text": [
      "\u001b[38;5;28;01mHTTP\u001b[39;00m\u001b[38;5;241m/\u001b[39m\u001b[38;5;241m1.1\u001b[39m \u001b[38;5;241m200\u001b[39m \u001b[38;5;167;01mOK\u001b[39;00m\n",
      "\u001b[38;5;100mcontent-length\u001b[39m\u001b[38;5;241m:\u001b[39m 126\n",
      "\u001b[38;5;100maccept-ranges\u001b[39m\u001b[38;5;241m:\u001b[39m bytes\n",
      "\u001b[38;5;100mexpires\u001b[39m\u001b[38;5;241m:\u001b[39m Thu, 01 Dec 1994 16:00:00 GMT\n",
      "\u001b[38;5;100mvary\u001b[39m\u001b[38;5;241m:\u001b[39m Accept-Encoding\n",
      "\u001b[38;5;100mserver\u001b[39m\u001b[38;5;241m:\u001b[39m Apache\n",
      "\u001b[38;5;100mx-dw-request-base-id\u001b[39m\u001b[38;5;241m:\u001b[39m WjsG-FiqAjKMAgAK\n",
      "\u001b[38;5;100mpragma\u001b[39m\u001b[38;5;241m:\u001b[39m no-cache\n",
      "\u001b[38;5;100mcache-control\u001b[39m\u001b[38;5;241m:\u001b[39m no-cache,no-store,must-revalidate\n",
      "\u001b[38;5;100mdate\u001b[39m\u001b[38;5;241m:\u001b[39m Sun, 19 Feb 2017 20:38:10 GMT\n",
      "\u001b[38;5;100mcontent-type\u001b[39m\u001b[38;5;241m:\u001b[39m application/json;charset=UTF-8\n",
      "\n",
      "{\n",
      "    \u001b[38;5;28;01m\"_v\"\u001b[39;00m: \u001b[38;5;124m\"1.0\"\u001b[39m, \n",
      "    \u001b[38;5;28;01m\"breakpoints\"\u001b[39;00m: [\n",
      "        {\n",
      "            \u001b[38;5;28;01m\"line_number\"\u001b[39;00m: \u001b[38;5;241m32\u001b[39m, \n",
      "            \u001b[38;5;28;01m\"script_path\"\u001b[39;00m: \u001b[38;5;124m\"/app_debugtest/cartridge/controllers/DebuggerTesting.js\"\u001b[39m, \n",
      "            \u001b[38;5;28;01m\"id\"\u001b[39;00m: \u001b[38;5;241m1\u001b[39m\n",
      "        }\n",
      "    ]\n",
      "}\n",
      "\n"
     ]
    }
   ],
   "source": [
    "resp = session.delete(BASE_URL + \"/breakpoints\")\n",
    "\n",
    "resp = session.post(BASE_URL + \"/breakpoints\", json=BREAKPOINTS)\n",
    "%resp resp"
   ]
  },
  {
   "cell_type": "code",
   "execution_count": 130,
   "metadata": {
    "collapsed": false
   },
   "outputs": [
    {
     "name": "stdout",
     "output_type": "stream",
     "text": [
      "\u001b[38;5;28;01mHTTP\u001b[39;00m\u001b[38;5;241m/\u001b[39m\u001b[38;5;241m1.1\u001b[39m \u001b[38;5;241m200\u001b[39m \u001b[38;5;167;01mOK\u001b[39;00m\n",
      "\u001b[38;5;100mcontent-length\u001b[39m\u001b[38;5;241m:\u001b[39m 360\n",
      "\u001b[38;5;100maccept-ranges\u001b[39m\u001b[38;5;241m:\u001b[39m bytes\n",
      "\u001b[38;5;100mvary\u001b[39m\u001b[38;5;241m:\u001b[39m Accept-Encoding\n",
      "\u001b[38;5;100mserver\u001b[39m\u001b[38;5;241m:\u001b[39m Apache\n",
      "\u001b[38;5;100mx-dw-request-base-id\u001b[39m\u001b[38;5;241m:\u001b[39m Wjs6-FiqAkCMAgAK\n",
      "\u001b[38;5;100mcache-control\u001b[39m\u001b[38;5;241m:\u001b[39m max-age=0,no-cache,no-store,must-revalidate\n",
      "\u001b[38;5;100mdate\u001b[39m\u001b[38;5;241m:\u001b[39m Sun, 19 Feb 2017 20:38:24 GMT\n",
      "\u001b[38;5;100mcontent-type\u001b[39m\u001b[38;5;241m:\u001b[39m application/json;charset=UTF-8\n",
      "\n",
      "{\n",
      "    \u001b[38;5;28;01m\"_v\"\u001b[39;00m: \u001b[38;5;124m\"1.0\"\u001b[39m, \n",
      "    \u001b[38;5;28;01m\"script_threads\"\u001b[39;00m: [\n",
      "        {\n",
      "            \u001b[38;5;28;01m\"status\"\u001b[39;00m: \u001b[38;5;124m\"halted\"\u001b[39m, \n",
      "            \u001b[38;5;28;01m\"id\"\u001b[39;00m: \u001b[38;5;241m10\u001b[39m, \n",
      "            \u001b[38;5;28;01m\"call_stack\"\u001b[39;00m: [\n",
      "                {\n",
      "                    \u001b[38;5;28;01m\"index\"\u001b[39;00m: \u001b[38;5;241m0\u001b[39m, \n",
      "                    \u001b[38;5;28;01m\"location\"\u001b[39;00m: {\n",
      "                        \u001b[38;5;28;01m\"line_number\"\u001b[39;00m: \u001b[38;5;241m32\u001b[39m, \n",
      "                        \u001b[38;5;28;01m\"script_path\"\u001b[39;00m: \u001b[38;5;124m\"/app_debugtest/cartridge/controllers/DebuggerTesting.js\"\u001b[39m, \n",
      "                        \u001b[38;5;28;01m\"function_name\"\u001b[39;00m: \u001b[38;5;124m\"start()\"\u001b[39m\n",
      "                    }\n",
      "                }, \n",
      "                {\n",
      "                    \u001b[38;5;28;01m\"index\"\u001b[39;00m: \u001b[38;5;241m1\u001b[39m, \n",
      "                    \u001b[38;5;28;01m\"location\"\u001b[39;00m: {\n",
      "                        \u001b[38;5;28;01m\"line_number\"\u001b[39;00m: \u001b[38;5;241m149\u001b[39m, \n",
      "                        \u001b[38;5;28;01m\"script_path\"\u001b[39;00m: \u001b[38;5;124m\"/app_storefront_controllers/cartridge/scripts/guard.js\"\u001b[39m, \n",
      "                        \u001b[38;5;28;01m\"function_name\"\u001b[39;00m: \u001b[38;5;124m\"-anonymous-()\"\u001b[39m\n",
      "                    }\n",
      "                }\n",
      "            ]\n",
      "        }\n",
      "    ]\n",
      "}\n",
      "\n"
     ]
    }
   ],
   "source": [
    "resp = session.get(BASE_URL + \"/threads\")\n",
    "\n",
    "threads = resp.json().get(\"script_threads\")\n",
    "if threads:\n",
    "    thread_id = threads[0].get(\"id\")\n",
    "\n",
    "%resp resp"
   ]
  },
  {
   "cell_type": "code",
   "execution_count": 109,
   "metadata": {
    "collapsed": false
   },
   "outputs": [
    {
     "data": {
      "text/plain": [
       "204"
      ]
     },
     "execution_count": 109,
     "metadata": {},
     "output_type": "execute_result"
    }
   ],
   "source": [
    "resp = session.post(BASE_URL + \"/threads/reset\")\n",
    "resp.status_code"
   ]
  },
  {
   "cell_type": "code",
   "execution_count": 131,
   "metadata": {
    "collapsed": false
   },
   "outputs": [
    {
     "name": "stdout",
     "output_type": "stream",
     "text": [
      "\u001b[38;5;28;01mHTTP\u001b[39;00m\u001b[38;5;241m/\u001b[39m\u001b[38;5;241m1.1\u001b[39m \u001b[38;5;241m200\u001b[39m \u001b[38;5;167;01mOK\u001b[39;00m\n",
      "\u001b[38;5;100mcontent-length\u001b[39m\u001b[38;5;241m:\u001b[39m 412\n",
      "\u001b[38;5;100maccept-ranges\u001b[39m\u001b[38;5;241m:\u001b[39m bytes\n",
      "\u001b[38;5;100mvary\u001b[39m\u001b[38;5;241m:\u001b[39m Accept-Encoding\n",
      "\u001b[38;5;100mserver\u001b[39m\u001b[38;5;241m:\u001b[39m Apache\n",
      "\u001b[38;5;100mx-dw-request-base-id\u001b[39m\u001b[38;5;241m:\u001b[39m Wjs7-FiqAkaMAgAK\n",
      "\u001b[38;5;100mcache-control\u001b[39m\u001b[38;5;241m:\u001b[39m max-age=0,no-cache,no-store,must-revalidate\n",
      "\u001b[38;5;100mdate\u001b[39m\u001b[38;5;241m:\u001b[39m Sun, 19 Feb 2017 20:38:30 GMT\n",
      "\u001b[38;5;100mcontent-type\u001b[39m\u001b[38;5;241m:\u001b[39m application/json;charset=UTF-8\n",
      "\n",
      "{\n",
      "    \u001b[38;5;28;01m\"count\"\u001b[39;00m: \u001b[38;5;241m4\u001b[39m, \n",
      "    \u001b[38;5;28;01m\"_v\"\u001b[39;00m: \u001b[38;5;124m\"1.0\"\u001b[39m, \n",
      "    \u001b[38;5;28;01m\"total\"\u001b[39;00m: \u001b[38;5;241m4\u001b[39m, \n",
      "    \u001b[38;5;28;01m\"start\"\u001b[39;00m: \u001b[38;5;241m0\u001b[39m, \n",
      "    \u001b[38;5;28;01m\"object_members\"\u001b[39;00m: [\n",
      "        {\n",
      "            \u001b[38;5;28;01m\"value\"\u001b[39;00m: \u001b[38;5;124m\"org.mozilla.javascript.Arguments@1512db9\"\u001b[39m, \n",
      "            \u001b[38;5;28;01m\"type\"\u001b[39;00m: \u001b[38;5;124m\"com.demandware.core.script.internal.scriptobject.JSObjectImpl\"\u001b[39m, \n",
      "            \u001b[38;5;28;01m\"name\"\u001b[39;00m: \u001b[38;5;124m\"arguments\"\u001b[39m, \n",
      "            \u001b[38;5;28;01m\"parent\"\u001b[39;00m: \u001b[38;5;124m\"\"\u001b[39m\n",
      "        }, \n",
      "        {\n",
      "            \u001b[38;5;28;01m\"value\"\u001b[39;00m: \u001b[38;5;124m\"foo\"\u001b[39m, \n",
      "            \u001b[38;5;28;01m\"type\"\u001b[39;00m: \u001b[38;5;124m\"String\"\u001b[39m, \n",
      "            \u001b[38;5;28;01m\"name\"\u001b[39;00m: \u001b[38;5;124m\"b\"\u001b[39m, \n",
      "            \u001b[38;5;28;01m\"parent\"\u001b[39;00m: \u001b[38;5;124m\"\"\u001b[39m\n",
      "        }, \n",
      "        {\n",
      "            \u001b[38;5;28;01m\"value\"\u001b[39;00m: \u001b[38;5;124m\"[HashMap id=17807868]\"\u001b[39m, \n",
      "            \u001b[38;5;28;01m\"type\"\u001b[39;00m: \u001b[38;5;124m\"dw.util.HashMap\"\u001b[39m, \n",
      "            \u001b[38;5;28;01m\"name\"\u001b[39;00m: \u001b[38;5;124m\"myMap\"\u001b[39m, \n",
      "            \u001b[38;5;28;01m\"parent\"\u001b[39;00m: \u001b[38;5;124m\"\"\u001b[39m\n",
      "        }, \n",
      "        {\n",
      "            \u001b[38;5;28;01m\"value\"\u001b[39;00m: \u001b[38;5;124m\"foo\"\u001b[39m, \n",
      "            \u001b[38;5;28;01m\"type\"\u001b[39;00m: \u001b[38;5;124m\"String\"\u001b[39m, \n",
      "            \u001b[38;5;28;01m\"name\"\u001b[39;00m: \u001b[38;5;124m\"t\"\u001b[39m, \n",
      "            \u001b[38;5;28;01m\"parent\"\u001b[39;00m: \u001b[38;5;124m\"\"\u001b[39m\n",
      "        }\n",
      "    ]\n",
      "}\n",
      "\n"
     ]
    }
   ],
   "source": [
    "resp = session.get(BASE_URL + \"/threads/%s/frames/0/members\" % thread_id)\n",
    "%resp resp"
   ]
  },
  {
   "cell_type": "code",
   "execution_count": 136,
   "metadata": {
    "collapsed": false
   },
   "outputs": [
    {
     "data": {
      "text/plain": [
       "204"
      ]
     },
     "execution_count": 136,
     "metadata": {},
     "output_type": "execute_result"
    }
   ],
   "source": [
    "resp = session.post(BASE_URL + \"/threads/%s/resume\" % thread_id)\n",
    "resp.status_code"
   ]
  },
  {
   "cell_type": "code",
   "execution_count": 113,
   "metadata": {
    "collapsed": false
   },
   "outputs": [
    {
     "name": "stdout",
     "output_type": "stream",
     "text": [
      "\u001b[38;5;28;01mHTTP\u001b[39;00m\u001b[38;5;241m/\u001b[39m\u001b[38;5;241m1.1\u001b[39m \u001b[38;5;241m200\u001b[39m \u001b[38;5;167;01mOK\u001b[39;00m\n",
      "\u001b[38;5;100mcontent-length\u001b[39m\u001b[38;5;241m:\u001b[39m 53\n",
      "\u001b[38;5;100maccept-ranges\u001b[39m\u001b[38;5;241m:\u001b[39m bytes\n",
      "\u001b[38;5;100mserver\u001b[39m\u001b[38;5;241m:\u001b[39m Apache\n",
      "\u001b[38;5;100mx-dw-request-base-id\u001b[39m\u001b[38;5;241m:\u001b[39m QDsa-Vip8uyMAgAK\n",
      "\u001b[38;5;100mcache-control\u001b[39m\u001b[38;5;241m:\u001b[39m max-age=0,no-cache,no-store,must-revalidate\n",
      "\u001b[38;5;100mdate\u001b[39m\u001b[38;5;241m:\u001b[39m Sun, 19 Feb 2017 19:33:00 GMT\n",
      "\u001b[38;5;100mcontent-type\u001b[39m\u001b[38;5;241m:\u001b[39m application/json;charset=UTF-8\n",
      "\n",
      "{\n",
      "    \u001b[38;5;28;01m\"_v\"\u001b[39;00m: \u001b[38;5;124m\"1.0\"\u001b[39m, \n",
      "    \u001b[38;5;28;01m\"expression\"\u001b[39;00m: \u001b[38;5;124m\"myMap.size()\"\u001b[39m, \n",
      "    \u001b[38;5;28;01m\"result\"\u001b[39;00m: \u001b[38;5;124m\"2\"\u001b[39m\n",
      "}\n",
      "\n"
     ]
    }
   ],
   "source": [
    "resp = session.get(BASE_URL + \"/threads/%s/frames/0/eval\" % thread_id, params={\"expr\" : \"myMap.size()\"})\n",
    "%resp resp"
   ]
  },
  {
   "cell_type": "code",
   "execution_count": 135,
   "metadata": {
    "collapsed": false
   },
   "outputs": [
    {
     "name": "stdout",
     "output_type": "stream",
     "text": [
      "\u001b[38;5;28;01mHTTP\u001b[39;00m\u001b[38;5;241m/\u001b[39m\u001b[38;5;241m1.1\u001b[39m \u001b[38;5;241m200\u001b[39m \u001b[38;5;167;01mOK\u001b[39;00m\n",
      "\u001b[38;5;100mcontent-length\u001b[39m\u001b[38;5;241m:\u001b[39m 180\n",
      "\u001b[38;5;100maccept-ranges\u001b[39m\u001b[38;5;241m:\u001b[39m bytes\n",
      "\u001b[38;5;100mvary\u001b[39m\u001b[38;5;241m:\u001b[39m Accept-Encoding\n",
      "\u001b[38;5;100mserver\u001b[39m\u001b[38;5;241m:\u001b[39m Apache\n",
      "\u001b[38;5;100mx-dw-request-base-id\u001b[39m\u001b[38;5;241m:\u001b[39m HTt6-FiqAomMAgAK\n",
      "\u001b[38;5;100mcache-control\u001b[39m\u001b[38;5;241m:\u001b[39m max-age=0,no-cache,no-store,must-revalidate\n",
      "\u001b[38;5;100mdate\u001b[39m\u001b[38;5;241m:\u001b[39m Sun, 19 Feb 2017 20:39:37 GMT\n",
      "\u001b[38;5;100mcontent-type\u001b[39m\u001b[38;5;241m:\u001b[39m application/json;charset=UTF-8\n",
      "\n",
      "{\n",
      "    \u001b[38;5;28;01m\"count\"\u001b[39;00m: \u001b[38;5;241m2\u001b[39m, \n",
      "    \u001b[38;5;28;01m\"_v\"\u001b[39;00m: \u001b[38;5;124m\"1.0\"\u001b[39m, \n",
      "    \u001b[38;5;28;01m\"total\"\u001b[39;00m: \u001b[38;5;241m2\u001b[39m, \n",
      "    \u001b[38;5;28;01m\"start\"\u001b[39;00m: \u001b[38;5;241m0\u001b[39m, \n",
      "    \u001b[38;5;28;01m\"object_members\"\u001b[39;00m: [\n",
      "        {\n",
      "            \u001b[38;5;28;01m\"value\"\u001b[39;00m: \u001b[38;5;124m\"something\"\u001b[39m, \n",
      "            \u001b[38;5;28;01m\"type\"\u001b[39;00m: \u001b[38;5;124m\"String\"\u001b[39m, \n",
      "            \u001b[38;5;28;01m\"name\"\u001b[39;00m: \u001b[38;5;124m\"bob\"\u001b[39m, \n",
      "            \u001b[38;5;28;01m\"parent\"\u001b[39;00m: \u001b[38;5;124m\"\"\u001b[39m\n",
      "        }, \n",
      "        {\n",
      "            \u001b[38;5;28;01m\"value\"\u001b[39;00m: \u001b[38;5;124m\"foo\"\u001b[39m, \n",
      "            \u001b[38;5;28;01m\"type\"\u001b[39;00m: \u001b[38;5;124m\"String\"\u001b[39m, \n",
      "            \u001b[38;5;28;01m\"name\"\u001b[39;00m: \u001b[38;5;124m\"yo\"\u001b[39m, \n",
      "            \u001b[38;5;28;01m\"parent\"\u001b[39;00m: \u001b[38;5;124m\"\"\u001b[39m\n",
      "        }\n",
      "    ]\n",
      "}\n",
      "\n"
     ]
    }
   ],
   "source": [
    "resp = session.get(BASE_URL + \"/threads/%s/frames/0/members\" % thread_id, params={\"object_path\" : \"myMap\"})\n",
    "%resp resp"
   ]
  },
  {
   "cell_type": "code",
   "execution_count": null,
   "metadata": {
    "collapsed": true
   },
   "outputs": [],
   "source": []
  }
 ],
 "metadata": {
  "kernelspec": {
   "display_name": "Python 2",
   "language": "python",
   "name": "python2"
  },
  "language_info": {
   "codemirror_mode": {
    "name": "ipython",
    "version": 2
   },
   "file_extension": ".py",
   "mimetype": "text/x-python",
   "name": "python",
   "nbconvert_exporter": "python",
   "pygments_lexer": "ipython2",
   "version": "2.7.12"
  }
 },
 "nbformat": 4,
 "nbformat_minor": 1
}
